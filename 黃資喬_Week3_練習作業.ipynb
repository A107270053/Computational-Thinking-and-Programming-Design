{
  "nbformat": 4,
  "nbformat_minor": 0,
  "metadata": {
    "colab": {
      "name": "黃資喬-Week3-練習作業.ipynb",
      "provenance": [],
      "collapsed_sections": [],
      "authorship_tag": "ABX9TyP/MZKzCl1rxCcPys7tqYCd",
      "include_colab_link": true
    },
    "kernelspec": {
      "name": "python3",
      "display_name": "Python 3"
    }
  },
  "cells": [
    {
      "cell_type": "markdown",
      "metadata": {
        "id": "view-in-github",
        "colab_type": "text"
      },
      "source": [
        "<a href=\"https://colab.research.google.com/github/A107270053/Computational-Thinking-and-Programming-Design/blob/main/%E9%BB%83%E8%B3%87%E5%96%AC_Week3_%E7%B7%B4%E7%BF%92%E4%BD%9C%E6%A5%AD.ipynb\" target=\"_parent\"><img src=\"https://colab.research.google.com/assets/colab-badge.svg\" alt=\"Open In Colab\"/></a>"
      ]
    },
    {
      "cell_type": "markdown",
      "metadata": {
        "id": "NWKJlec-NgnN"
      },
      "source": [
        "#隨堂練習\r\n"
      ]
    },
    {
      "cell_type": "markdown",
      "metadata": {
        "id": "qtksuysaXGr_"
      },
      "source": [
        "「用電腦解決問題」\r\n",
        "\r\n",
        "{運算思維的四個基石}\r\n",
        "**1**拆解問題\r\n",
        "**2**抽象化\r\n",
        "**3**模式辨識\r\n",
        "**4**演算法\r\n",
        "\r\n",
        "{什麼是運算思維？}\r\n",
        "運算思維是用思考找到答案的過程\r\n",
        "\r\n",
        "{用電腦解決問題的步驟}\r\n",
        "**1**運算思維Analysis\r\n",
        "**2**程式設計Design\r\n",
        "**3**撰寫程式Coding\r\n",
        "**4**測試與除錯Testing\r\n",
        "\r\n",
        "軟體是許多指令的集合 指揮硬體運作的方式\r\n"
      ]
    },
    {
      "cell_type": "code",
      "metadata": {
        "colab": {
          "base_uri": "https://localhost:8080/"
        },
        "id": "82Seo-06N_Gc",
        "outputId": "da9b984d-3e43-43c7-f4de-7af6b9d85cf6"
      },
      "source": [
        "print(1+1)"
      ],
      "execution_count": 2,
      "outputs": [
        {
          "output_type": "stream",
          "text": [
            "2\n"
          ],
          "name": "stdout"
        }
      ]
    },
    {
      "cell_type": "markdown",
      "metadata": {
        "id": "T-ArUVcxOIlE"
      },
      "source": [
        "#課後練習"
      ]
    },
    {
      "cell_type": "markdown",
      "metadata": {
        "id": "90qTgn2MOrJF"
      },
      "source": [
        "從一則新聞報導，提出對企管系學生為什麼要學「運算思維與程式設計」的見解。"
      ]
    },
    {
      "cell_type": "markdown",
      "metadata": {
        "id": "cHZsNdGdUHrm"
      },
      "source": [
        "https://news.pts.org.tw/article/428906\r\n",
        "\r\n",
        "\r\n",
        "因為未來科技發達的程度會需要每個人都懂一點基本的電腦知識，例如構成電腦的結構，硬體軟體是什麼、程式語言是什麼等等，也是一種訓練決問題能力的方法、學習邏輯的方法，並培養創造力。\r\n",
        "就像老師說的，對商管學院的學生，最重要的是用自己的專業知識與普通常識把一個問題定義清楚，找到真正的問題點，並確定這是一個具有商業價值的問題。"
      ]
    },
    {
      "cell_type": "code",
      "metadata": {
        "id": "FlP55yvtdNaI"
      },
      "source": [
        ""
      ],
      "execution_count": null,
      "outputs": []
    }
  ]
}