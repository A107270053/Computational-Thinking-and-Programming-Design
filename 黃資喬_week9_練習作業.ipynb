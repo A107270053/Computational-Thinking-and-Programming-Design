{
  "nbformat": 4,
  "nbformat_minor": 0,
  "metadata": {
    "colab": {
      "name": "黃資喬-week9-練習作業.ipynb",
      "provenance": [],
      "collapsed_sections": [],
      "authorship_tag": "ABX9TyOa62E9s/3wfybwW6/yOiL7",
      "include_colab_link": true
    },
    "kernelspec": {
      "name": "python3",
      "display_name": "Python 3"
    },
    "language_info": {
      "name": "python"
    }
  },
  "cells": [
    {
      "cell_type": "markdown",
      "metadata": {
        "id": "view-in-github",
        "colab_type": "text"
      },
      "source": [
        "<a href=\"https://colab.research.google.com/github/A107270053/Computational-Thinking-and-Programming-Design/blob/main/%E9%BB%83%E8%B3%87%E5%96%AC_week9_%E7%B7%B4%E7%BF%92%E4%BD%9C%E6%A5%AD.ipynb\" target=\"_parent\"><img src=\"https://colab.research.google.com/assets/colab-badge.svg\" alt=\"Open In Colab\"/></a>"
      ]
    },
    {
      "cell_type": "code",
      "metadata": {
        "colab": {
          "base_uri": "https://localhost:8080/"
        },
        "id": "szFtTIAXoEbv",
        "outputId": "8d2f04a8-cb1a-4226-91a8-7bd5fc39c353"
      },
      "source": [
        " movie_title = \"Man in Love\" #電影名稱\n",
        " release_year = \"2021/04/01\" #放映日期\n",
        "movie_time_min = \"115\" #片長\n",
        "movie_rating = \"3.6\"\n",
        "\n",
        "director = \"殷振豪\" #導演\n",
        "stars_1 = \"邱澤\" #主要演員1\n",
        "stars_2 =\"許瑋甯\" #主要演員2\n",
        "like = 1 #你喜不喜歡\n",
        "\n",
        "print(movie_title)\n",
        "print(release_year)\n",
        "print(movie_time_min) \n"
      ],
      "execution_count": null,
      "outputs": [
        {
          "output_type": "stream",
          "text": [
            "Man in Love\n",
            "2021/04/01\n",
            "115\n"
          ],
          "name": "stdout"
        }
      ]
    },
    {
      "cell_type": "code",
      "metadata": {
        "colab": {
          "base_uri": "https://localhost:8080/"
        },
        "id": "cfFJ8k8ikjbs",
        "outputId": "a3ff64ca-0f69-4ee9-ee2f-1ff43ee6f82f"
      },
      "source": [
        "name=\"宋仲基\"\n",
        "birthday=\"1989年9月19日\"\n",
        "birthplace=\"南韓\"\n",
        "occupation=\"演員\"\n",
        "print(\"韓國演員檔案:\\n姓名:{}\\n生日:{}\\n國籍:{}\\n職業:{}\".format(name,birthday,birthplace,occupation))\n"
      ],
      "execution_count": null,
      "outputs": [
        {
          "output_type": "stream",
          "text": [
            "韓國演員檔案:\n",
            "姓名:宋仲基\n",
            "生日:1989年9月19日\n",
            "國籍:南韓\n",
            "職業:演員\n"
          ],
          "name": "stdout"
        }
      ]
    },
    {
      "cell_type": "code",
      "metadata": {
        "colab": {
          "base_uri": "https://localhost:8080/"
        },
        "id": "TLPoF_2ImqAK",
        "outputId": "20b53728-96cf-4a69-83dd-aeacedc09ef1"
      },
      "source": [
        "time=123\n",
        "hours = time / 60 #123/60=2.05\n",
        "hours1=int(hours) #取整數為時\n",
        "hours1\n",
        "\n",
        "minutes = hours1 - hours\n",
        "minutes1 = round(minutes * 60)\n",
        "minutes1"
      ],
      "execution_count": null,
      "outputs": [
        {
          "output_type": "execute_result",
          "data": {
            "text/plain": [
              "-3"
            ]
          },
          "metadata": {
            "tags": []
          },
          "execution_count": 5
        }
      ]
    },
    {
      "cell_type": "code",
      "metadata": {
        "colab": {
          "base_uri": "https://localhost:8080/"
        },
        "id": "hWhBcxljno5Q",
        "outputId": "76319aac-15fc-458a-f48e-d4e8e58d0900"
      },
      "source": [
        "sum=0\n",
        "\n",
        "sum=sum+(6*60+32)\n",
        "print(\"用時\",sum//60,\"分\",sum%60,\"秒\")\n",
        "sum=sum+(7*60+21)\n",
        "print(\"用時\",sum//60,\"分\",sum%60,\"秒\")\n",
        "sum=sum+(5*60+51)\n",
        "print(\"用時\",sum//60,\"分\",sum%60,\"秒\")\n",
        "sum=sum+(7*60+3)\n",
        "print(\"用時\",sum//60,\"分\",sum%60,\"秒\")"
      ],
      "execution_count": null,
      "outputs": [
        {
          "output_type": "stream",
          "text": [
            "用時 6 分 32 秒\n",
            "用時 13 分 53 秒\n",
            "用時 19 分 44 秒\n",
            "用時 26 分 47 秒\n"
          ],
          "name": "stdout"
        }
      ]
    },
    {
      "cell_type": "code",
      "metadata": {
        "colab": {
          "base_uri": "https://localhost:8080/"
        },
        "id": "pbDXanK6tpEl",
        "outputId": "a5aba496-ebed-415a-89ae-1d9927de2134"
      },
      "source": [
        "seats = int(input('請輸入座號?')) #文字轉數字\n",
        "groups = (seats - 1)// 5 + 1\n",
        "print('組別為',groups)\n"
      ],
      "execution_count": null,
      "outputs": [
        {
          "output_type": "stream",
          "text": [
            "請輸入座號?55\n",
            "組別為 11\n"
          ],
          "name": "stdout"
        }
      ]
    },
    {
      "cell_type": "code",
      "metadata": {
        "id": "Q1m3bEQZxgf6"
      },
      "source": [
        ""
      ],
      "execution_count": null,
      "outputs": []
    }
  ]
}