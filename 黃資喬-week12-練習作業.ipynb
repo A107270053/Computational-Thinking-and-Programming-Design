{
  "nbformat": 4,
  "nbformat_minor": 0,
  "metadata": {
    "colab": {
      "name": "黃資喬-week12-練習作業.ipynb",
      "provenance": [],
      "collapsed_sections": [],
      "authorship_tag": "ABX9TyP9FKQK/9xWmeC4xU2zy8vD",
      "include_colab_link": true
    },
    "kernelspec": {
      "name": "python3",
      "display_name": "Python 3"
    },
    "language_info": {
      "name": "python"
    }
  },
  "cells": [
    {
      "cell_type": "markdown",
      "metadata": {
        "id": "view-in-github",
        "colab_type": "text"
      },
      "source": [
        "<a href=\"https://colab.research.google.com/github/A107270053/Computational-Thinking-and-Programming-Design/blob/main/%E9%BB%83%E8%B3%87%E5%96%AC-week12-%E7%B7%B4%E7%BF%92%E4%BD%9C%E6%A5%AD.ipynb\" target=\"_parent\"><img src=\"https://colab.research.google.com/assets/colab-badge.svg\" alt=\"Open In Colab\"/></a>"
      ]
    },
    {
      "cell_type": "markdown",
      "metadata": {
        "id": "kXjf40ho2-25"
      },
      "source": [
        "隨堂練習: 判斷奇偶數\n",
        "請寫一個程式判斷輸入的值是奇數還是偶數。"
      ]
    },
    {
      "cell_type": "code",
      "metadata": {
        "colab": {
          "base_uri": "https://localhost:8080/"
        },
        "id": "Ek1DVZba2_gS",
        "outputId": "3a31ab1e-ada5-4434-a221-50a5180ecc38"
      },
      "source": [
        "num = int(input('請輸入一個整數?'))\n",
        "if num % 2==0:\n",
        "   print(num,'為偶數')\n",
        "else:\n",
        "   print(num,'為奇數')"
      ],
      "execution_count": 11,
      "outputs": [
        {
          "output_type": "stream",
          "text": [
            "請輸入一個整數?89\n",
            "89 為奇數\n"
          ],
          "name": "stdout"
        }
      ]
    },
    {
      "cell_type": "markdown",
      "metadata": {
        "id": "VDInP7M7461h"
      },
      "source": [
        "隨堂練習: 滿2000 打九折\n",
        "請寫一個程式幫助店家計算顧客所需付出的金額。\n",
        "\n",
        "採買物品時，有時會遇到店家為了刺激消費，會使用滿額折扣。例如，滿2000 打九折，未滿2000 則不打折。"
      ]
    },
    {
      "cell_type": "code",
      "metadata": {
        "colab": {
          "base_uri": "https://localhost:8080/"
        },
        "id": "oerL1Y_V4_j5",
        "outputId": "4d10825e-366e-4215-8c15-aeeff5f8ab26"
      },
      "source": [
        "cost = int(input('請輸入購買金額?'))\n",
        "if cost>=2000:\n",
        "  print(cost*0.9)\n",
        "else:\n",
        "  print(cost)"
      ],
      "execution_count": 14,
      "outputs": [
        {
          "output_type": "stream",
          "text": [
            "請輸入購買金額?5400\n",
            "4860.0\n"
          ],
          "name": "stdout"
        }
      ]
    }
  ]
}