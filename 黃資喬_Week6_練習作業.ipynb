{
  "nbformat": 4,
  "nbformat_minor": 0,
  "metadata": {
    "colab": {
      "name": "黃資喬-Week6-隨堂練習.ipynb",
      "provenance": [],
      "collapsed_sections": [],
      "authorship_tag": "ABX9TyNWNb/TA6a07PVJhe0v5y2I",
      "include_colab_link": true
    },
    "kernelspec": {
      "name": "python3",
      "display_name": "Python 3"
    },
    "language_info": {
      "name": "python"
    }
  },
  "cells": [
    {
      "cell_type": "markdown",
      "metadata": {
        "id": "view-in-github",
        "colab_type": "text"
      },
      "source": [
        "<a href=\"https://colab.research.google.com/github/A107270053/Computational-Thinking-and-Programming-Design/blob/main/%E9%BB%83%E8%B3%87%E5%96%AC_Week6_%E7%B7%B4%E7%BF%92%E4%BD%9C%E6%A5%AD.ipynb\" target=\"_parent\"><img src=\"https://colab.research.google.com/assets/colab-badge.svg\" alt=\"Open In Colab\"/></a>"
      ]
    },
    {
      "cell_type": "code",
      "metadata": {
        "id": "VtDfiElgfOLV"
      },
      "source": [
        "#小猴子摘水果 有一天，一隻小猴子來到果園裡，牠走道蘋果樹下，看到滿樹的蘋果，就爬上去摘了2個。又看到不滿的地方有一個梨子樹，又大又黃，就丟掉蘋果，爬到梨子樹摘了1個梨子。正準備吃的時候，看到前方又紅又大的桃子樹，就又高高興興地跑到桃樹上，摘了3個桃子。這時傳來小鳥的叫聲，鳥在香蕉樹上，當然就立馬飛奔去摘香蕉，最後吃了6根香蕉。 請問這隻猴子摘了什麼水果、摘了幾個？總共摘了多少個水果？"
      ],
      "execution_count": 1,
      "outputs": []
    },
    {
      "cell_type": "code",
      "metadata": {
        "colab": {
          "base_uri": "https://localhost:8080/"
        },
        "id": "5RNOlusCfz61",
        "outputId": "f763c228-11ac-4dd2-f2c2-6bcafb88299c"
      },
      "source": [
        "total=0\n",
        "\n",
        "fruit=\"Apple\"\n",
        "number=2\n",
        "total=total+number\n",
        "#print(\"摘了\",fruit,\"摘了\",number,\"個, 總共摘了{total}個水果\")\n",
        "print(f\"摘了\",fruit,\"摘了\",number,\"個, 總共摘了{total}個水果\")"
      ],
      "execution_count": 10,
      "outputs": [
        {
          "output_type": "stream",
          "text": [
            "摘了 Apple 摘了 2 個, 總共摘了{total}個水果\n"
          ],
          "name": "stdout"
        }
      ]
    },
    {
      "cell_type": "code",
      "metadata": {
        "colab": {
          "base_uri": "https://localhost:8080/"
        },
        "id": "2wx6pfSLikvP",
        "outputId": "1882c88e-64cb-45ae-8876-7fb69a72020c"
      },
      "source": [
        "name=input('請問貴姓大名?')\n",
        "print('你好,',name)\n",
        "age=input('請問年紀?')\n",
        "print('原來你,',age)"
      ],
      "execution_count": 7,
      "outputs": [
        {
          "output_type": "stream",
          "text": [
            "請問貴姓大名?Huang\n",
            "你好, Huang\n",
            "請問年紀?21\n",
            "原來你, 21\n"
          ],
          "name": "stdout"
        }
      ]
    },
    {
      "cell_type": "code",
      "metadata": {
        "colab": {
          "base_uri": "https://localhost:8080/"
        },
        "id": "JAZnYm0kjZy6",
        "outputId": "d1627776-1ee6-4a62-b3c0-0dba880bbf13"
      },
      "source": [
        "weight=eval(input('請問體重?'))\n",
        "type(weight)\n",
        "print('體重為',weight)"
      ],
      "execution_count": 9,
      "outputs": [
        {
          "output_type": "stream",
          "text": [
            "請問體重?90\n",
            "體重為 90\n"
          ],
          "name": "stdout"
        }
      ]
    },
    {
      "cell_type": "code",
      "metadata": {
        "colab": {
          "base_uri": "https://localhost:8080/"
        },
        "id": "yXUpl8QDkNfg",
        "outputId": "52ad3498-84ff-4398-f9af-d756ec8fc6aa"
      },
      "source": [
        "##Input\n",
        "radius=float(input('請輸入半徑?'))\n",
        "PI=3.14159\n",
        "circumference=2*PI*radius\n",
        "area=radius*radius*PI\n",
        "print(f'圓周長為{circumference},圓面積為{area}')\n"
      ],
      "execution_count": 14,
      "outputs": [
        {
          "output_type": "stream",
          "text": [
            "請輸入半徑?10\n",
            "圓周長為62.8318,圓面積為314.159\n"
          ],
          "name": "stdout"
        }
      ]
    },
    {
      "cell_type": "code",
      "metadata": {
        "colab": {
          "base_uri": "https://localhost:8080/"
        },
        "id": "c7ZX_0kvla8Y",
        "outputId": "b7eee3fd-bf41-4580-9e0b-0810904f9c4d"
      },
      "source": [
        "##input\n",
        "PI=3.14\n",
        "r1=input(\"Enter radius 1: \")\n",
        "r2=input(\"Enter radius 2: \")\n",
        "r1=float(r1)\n",
        "r2=float(r2)\n",
        "\n",
        "##Process\n",
        "area1=PI * r1 * r1\n",
        "area2=PI * r2 * r2\n",
        "area=area1-area2\n",
        "\n",
        "##Output\n",
        "print(f\"............{area}\")"
      ],
      "execution_count": 21,
      "outputs": [
        {
          "output_type": "stream",
          "text": [
            "Enter radius 1: 8\n",
            "Enter radius 2: 6\n",
            "............87.92000000000002\n"
          ],
          "name": "stdout"
        }
      ]
    },
    {
      "cell_type": "code",
      "metadata": {
        "colab": {
          "base_uri": "https://localhost:8080/"
        },
        "id": "p-B86_7CnWSP",
        "outputId": "a19dd571-2921-4b35-f065-79bf9cbb66cd"
      },
      "source": [
        "##Input\n",
        "c=float(input('請輸入攝氏溫度?'))\n",
        "\n",
        "##Process\n",
        "f=c*9/5+32\n",
        "\n",
        "##Output\n",
        "\n",
        "print('華氏溫度為',f)"
      ],
      "execution_count": 26,
      "outputs": [
        {
          "output_type": "stream",
          "text": [
            "請輸入攝氏溫度?30\n",
            "華氏溫度為 86.0\n"
          ],
          "name": "stdout"
        }
      ]
    },
    {
      "cell_type": "code",
      "metadata": {
        "colab": {
          "base_uri": "https://localhost:8080/"
        },
        "id": "7uTAlIQLo_3B",
        "outputId": "ace87784-5cd6-4e33-b2cd-9a44dabf579a"
      },
      "source": [
        "f=int(input('請輸入幾尺?'))\n",
        "i=int(input('請輸入幾吋?'))\n",
        "ans=(f*12+i)*2.54\n",
        "print('轉換成',ans,'公分')"
      ],
      "execution_count": 29,
      "outputs": [
        {
          "output_type": "stream",
          "text": [
            "請輸入幾尺?6\n",
            "請輸入幾吋?3\n",
            "轉換成 190.5 公分\n"
          ],
          "name": "stdout"
        }
      ]
    },
    {
      "cell_type": "code",
      "metadata": {
        "colab": {
          "base_uri": "https://localhost:8080/"
        },
        "id": "LF9Y03RKqB0R",
        "outputId": "14d0849f-3426-4174-8e00-a0f434b05432"
      },
      "source": [
        "r1=eval(input('請輸入外圓的直徑:'))\n",
        "r2=eval(input('請輸入內圓的直徑:'))\n",
        "s1=3.14 * r1/2 * r1/2\n",
        "s2=3.14 * r2/2 * r2/2\n",
        "s3= s1 - s2\n",
        "print(\"外圓面積為\",s1)\n",
        "print(\"內圓面積為\",s2)\n",
        "print(\"圓環面積為\",s3)\n"
      ],
      "execution_count": 32,
      "outputs": [
        {
          "output_type": "stream",
          "text": [
            "請輸入外圓的直徑:10\n",
            "請輸入內圓的直徑:5\n",
            "外圓面積為 78.5\n",
            "內圓面積為 19.625\n",
            "圓環面積為 58.875\n"
          ],
          "name": "stdout"
        }
      ]
    }
  ]
}