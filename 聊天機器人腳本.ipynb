{
  "nbformat": 4,
  "nbformat_minor": 0,
  "metadata": {
    "colab": {
      "name": "聊天機器人.ipynb",
      "provenance": [],
      "collapsed_sections": [],
      "authorship_tag": "ABX9TyMBOAiKX7YQeC9WvTLi08wG",
      "include_colab_link": true
    },
    "kernelspec": {
      "name": "python3",
      "display_name": "Python 3"
    },
    "language_info": {
      "name": "python"
    }
  },
  "cells": [
    {
      "cell_type": "markdown",
      "metadata": {
        "id": "view-in-github",
        "colab_type": "text"
      },
      "source": [
        "<a href=\"https://colab.research.google.com/github/A107270053/Computational-Thinking-and-Programming-Design/blob/main/%E8%81%8A%E5%A4%A9%E6%A9%9F%E5%99%A8%E4%BA%BA%E8%85%B3%E6%9C%AC.ipynb\" target=\"_parent\"><img src=\"https://colab.research.google.com/assets/colab-badge.svg\" alt=\"Open In Colab\"/></a>"
      ]
    },
    {
      "cell_type": "markdown",
      "metadata": {
        "id": "B0INzI9queUR"
      },
      "source": [
        "A107270017蕭米淇\n",
        "A107270029沈怡\n",
        "A107270053黃資喬"
      ]
    },
    {
      "cell_type": "markdown",
      "metadata": {
        "id": "M0AVkxx0vBuo"
      },
      "source": [
        "主題:\n",
        "網路服飾店客服小幫手"
      ]
    },
    {
      "cell_type": "markdown",
      "metadata": {
        "id": "g5p4ymjFvDB5"
      },
      "source": [
        "腳本:"
      ]
    },
    {
      "cell_type": "markdown",
      "metadata": {
        "id": "IgIAKtcSrtc5"
      },
      "source": [
        "嗨!我是E有盡有的客服小幫手Yummy，請問有什麼問題嗎?\n",
        "嗨!Yummy,我太胖了買不到適合我的衣服尺寸。\n",
        "算你幸運找對人了，E有盡有擁有最多的衣服尺寸，從xxxxxS到xxxxxL都有喔!\n",
        "那我要如何知道要穿什麼尺寸呢?\n",
        "告訴我你的身高體重吧，我來幫助你測量。\n",
        "我150公分，100公斤\n",
        "那你應該穿xxxxL呦，希望有幫助到你\n",
        "有的，真的是非常感謝!!"
      ]
    }
  ]
}