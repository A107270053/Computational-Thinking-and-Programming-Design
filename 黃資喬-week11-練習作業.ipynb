{
  "nbformat": 4,
  "nbformat_minor": 0,
  "metadata": {
    "colab": {
      "name": "黃資喬-week11-練習作業.ipynb",
      "provenance": [],
      "collapsed_sections": [],
      "authorship_tag": "ABX9TyOecxAFhzmMvv/D6Lxs2rsM",
      "include_colab_link": true
    },
    "kernelspec": {
      "name": "python3",
      "display_name": "Python 3"
    },
    "language_info": {
      "name": "python"
    }
  },
  "cells": [
    {
      "cell_type": "markdown",
      "metadata": {
        "id": "view-in-github",
        "colab_type": "text"
      },
      "source": [
        "<a href=\"https://colab.research.google.com/github/A107270053/Computational-Thinking-and-Programming-Design/blob/main/%E9%BB%83%E8%B3%87%E5%96%AC-week11-%E7%B7%B4%E7%BF%92%E4%BD%9C%E6%A5%AD.ipynb\" target=\"_parent\"><img src=\"https://colab.research.google.com/assets/colab-badge.svg\" alt=\"Open In Colab\"/></a>"
      ]
    },
    {
      "cell_type": "code",
      "metadata": {
        "colab": {
          "base_uri": "https://localhost:8080/"
        },
        "id": "ZpEpEjesomcd",
        "outputId": "f3e7fa6f-2067-4581-87a2-71f6d1e473c5"
      },
      "source": [
        "## 身分證字號尾數是否為奇數?\n",
        "id_last_digit = input(\"請輸入您身分證字號的尾數:\")\n",
        "ans = int(id_last_digit) % 2 ==1\n",
        "print(\"身分證尾數除以2的餘數是否為1 : \", ans)"
      ],
      "execution_count": 1,
      "outputs": [
        {
          "output_type": "stream",
          "text": [
            "請輸入您身分證字號的尾數:1\n",
            "身分證尾數除以2的餘數是否為1 :  True\n"
          ],
          "name": "stdout"
        }
      ]
    },
    {
      "cell_type": "code",
      "metadata": {
        "colab": {
          "base_uri": "https://localhost:8080/"
        },
        "id": "BiEWLMlbotPL",
        "outputId": "5181a302-54ab-4e72-8b9a-f6a2808c22c1"
      },
      "source": [
        "## Input\n",
        "nuber = input(\"Enter the last digit of ID card: \")\n",
        "nuber = int(nuber)\n",
        "\n",
        "## Process\n",
        "print(nuber % 2 == 1)\n"
      ],
      "execution_count": 2,
      "outputs": [
        {
          "output_type": "stream",
          "text": [
            "Enter the last digit of ID card: 2\n",
            "False\n"
          ],
          "name": "stdout"
        }
      ]
    }
  ]
}