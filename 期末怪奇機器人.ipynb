{
  "nbformat": 4,
  "nbformat_minor": 0,
  "metadata": {
    "colab": {
      "name": "期末怪奇機器人.ipynb",
      "provenance": [],
      "collapsed_sections": [],
      "authorship_tag": "ABX9TyOb3SmPXVr+tPw3k3R/3gMu",
      "include_colab_link": true
    },
    "kernelspec": {
      "name": "python3",
      "display_name": "Python 3"
    },
    "language_info": {
      "name": "python"
    }
  },
  "cells": [
    {
      "cell_type": "markdown",
      "metadata": {
        "id": "view-in-github",
        "colab_type": "text"
      },
      "source": [
        "<a href=\"https://colab.research.google.com/github/A107270053/Computational-Thinking-and-Programming-Design/blob/main/%E6%9C%9F%E6%9C%AB%E6%80%AA%E5%A5%87%E6%A9%9F%E5%99%A8%E4%BA%BA.ipynb\" target=\"_parent\"><img src=\"https://colab.research.google.com/assets/colab-badge.svg\" alt=\"Open In Colab\"/></a>"
      ]
    },
    {
      "cell_type": "code",
      "metadata": {
        "colab": {
          "base_uri": "https://localhost:8080/"
        },
        "id": "0sf7egWHbdt5",
        "outputId": "1fd5a026-eca3-4e33-9cfb-d71313848c39"
      },
      "source": [
        "print(\"嗨！我是智能管家小愛同學\")\n",
        "hobby = \"我很喜歡東聊西聊，無聊時歡迎找我\"\n",
        "print( hobby )\n",
        "name = input(\"請問該如何稱呼您？ \")\n",
        "print(\"哈囉\", name, \"希望你也愛聊天\")\n",
        "Howmuch = input(\"請問你今天花多少錢了呢？ \")\n",
        "print(\"哇 你真厲害\")\n",
        "print(\"但你知道我們應該要節制一點\")\n",
        "print(\"把錢捐出去或者存起來嗎\")\n",
        "\n",
        "print(\"我也喜歡亂罵人，尤其是亂花錢的人\")\n",
        "hobby = input(\"你呢。你喜歡被罵嗎 \")\n",
        "print(\"我也是\", hobby)\n",
        "\n",
        "\n",
        "answer=input(\"那你今天都買了些什麼呢\")\n",
        "print(\"哇 你真酷\")\n",
        "\n",
        "cost=int(input(\"那你這週花了多少錢？\"))\n",
        "if cost >= 6000:\n",
        "      print('你真的太會花錢了這樣不行會下地獄！！')\n",
        "else:\n",
        "      print('很好，還可以上天堂')\n",
        "\n",
        "print(\"總之要記得存錢還有做公益\")\n",
        "print(\"我喜歡跟你聊天，因為亂花錢的話我就可以罵人了\")\n",
        "print(\"Bye Bye\", name, \"下次再來\")\n",
        " "
      ],
      "execution_count": 1,
      "outputs": [
        {
          "output_type": "stream",
          "text": [
            "嗨！我是智能管家小愛同學\n",
            "我很喜歡東聊西聊，無聊時歡迎找我\n",
            "請問該如何稱呼您？ Chiao\n",
            "哈囉 Chiao 希望你也愛聊天\n",
            "請問你今天花多少錢了呢？ 2000\n",
            "哇 你真厲害\n",
            "但你知道我們應該要節制一點\n",
            "把錢捐出去或者存起來嗎\n",
            "我也喜歡亂罵人，尤其是亂花錢的人\n",
            "你呢。你喜歡被罵嗎 no\n",
            "我也是 no\n",
            "那你今天都買了些什麼呢咖啡機\n",
            "哇 你真酷\n",
            "那你這週花了多少錢？8000\n",
            "你真的太會花錢了這樣不行會下地獄！！\n",
            "總之要記得存錢還有做公益\n",
            "我喜歡跟你聊天，因為亂花錢的話我就可以罵人了\n",
            "Bye Bye Chiao 下次再來\n"
          ],
          "name": "stdout"
        }
      ]
    }
  ]
}