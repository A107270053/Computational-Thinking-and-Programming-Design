{
  "nbformat": 4,
  "nbformat_minor": 0,
  "metadata": {
    "colab": {
      "name": "黃資喬-week8-練習作業.ipynb",
      "provenance": [],
      "collapsed_sections": [],
      "authorship_tag": "ABX9TyPZD6cVBYyiiWTMqYyiRsj+",
      "include_colab_link": true
    },
    "kernelspec": {
      "name": "python3",
      "display_name": "Python 3"
    },
    "language_info": {
      "name": "python"
    }
  },
  "cells": [
    {
      "cell_type": "markdown",
      "metadata": {
        "id": "view-in-github",
        "colab_type": "text"
      },
      "source": [
        "<a href=\"https://colab.research.google.com/github/A107270053/Computational-Thinking-and-Programming-Design/blob/main/%E9%BB%83%E8%B3%87%E5%96%AC_week8_%E7%B7%B4%E7%BF%92%E4%BD%9C%E6%A5%AD.ipynb\" target=\"_parent\"><img src=\"https://colab.research.google.com/assets/colab-badge.svg\" alt=\"Open In Colab\"/></a>"
      ]
    },
    {
      "cell_type": "code",
      "metadata": {
        "colab": {
          "base_uri": "https://localhost:8080/"
        },
        "id": "E5lvlHNyArdk",
        "outputId": "b9edaa60-672c-4352-e53a-89917face4fa"
      },
      "source": [
        "player_name=input(\"請輸入球員姓名\")\n",
        "player_height=input(\"請輸入球員身高（cm）:\")\n",
        "player_weight=input(\"請輸入球員體重（kg）:\")\n",
        "\n",
        "player_height=float(player_height)\n",
        "player_weight=float(player_weight)\n",
        "player_bmi=player_weight/(player_height*0.01)**2\n",
        "\n",
        "print(\"{}的身體質量指數為：{:.2f}\".format(player_name,player_bmi))\n",
        "print(player_name,'的身體質量指數為',player_bmi)"
      ],
      "execution_count": 4,
      "outputs": [
        {
          "output_type": "stream",
          "text": [
            "請輸入球員姓名Shaquille O’Neal\n",
            "請輸入球員身高（cm）:216\n",
            "請輸入球員體重（kg）:147\n",
            "Shaquille O’Neal的身體質量指數為：31.51\n",
            "Shaquille O’Neal 的身體質量指數為 31.507201646090532\n"
          ],
          "name": "stdout"
        }
      ]
    },
    {
      "cell_type": "code",
      "metadata": {
        "id": "KMaIfyQzHNPZ"
      },
      "source": [
        ""
      ],
      "execution_count": null,
      "outputs": []
    }
  ]
}