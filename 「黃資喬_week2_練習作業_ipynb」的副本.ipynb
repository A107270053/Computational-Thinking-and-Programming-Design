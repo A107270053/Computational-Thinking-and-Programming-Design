{
  "nbformat": 4,
  "nbformat_minor": 0,
  "metadata": {
    "colab": {
      "name": "「黃資喬-week2-練習作業.ipynb」的副本",
      "provenance": [],
      "authorship_tag": "ABX9TyOh+igDYEwXlnq+TjqDrRi0",
      "include_colab_link": true
    },
    "kernelspec": {
      "name": "python3",
      "display_name": "Python 3"
    }
  },
  "cells": [
    {
      "cell_type": "markdown",
      "metadata": {
        "id": "view-in-github",
        "colab_type": "text"
      },
      "source": [
        "<a href=\"https://colab.research.google.com/github/A107270053/Computational-Thinking-and-Programming-Design/blob/main/%E3%80%8C%E9%BB%83%E8%B3%87%E5%96%AC_week2_%E7%B7%B4%E7%BF%92%E4%BD%9C%E6%A5%AD_ipynb%E3%80%8D%E7%9A%84%E5%89%AF%E6%9C%AC.ipynb\" target=\"_parent\"><img src=\"https://colab.research.google.com/assets/colab-badge.svg\" alt=\"Open In Colab\"/></a>"
      ]
    },
    {
      "cell_type": "code",
      "metadata": {
        "colab": {
          "base_uri": "https://localhost:8080/"
        },
        "id": "TGG9wsjRTB_d",
        "outputId": "767680e1-39b5-42f7-d568-254c5d168f98"
      },
      "source": [
        "print(1+1)\r\n"
      ],
      "execution_count": null,
      "outputs": [
        {
          "output_type": "stream",
          "text": [
            "2\n"
          ],
          "name": "stdout"
        }
      ]
    },
    {
      "cell_type": "code",
      "metadata": {
        "colab": {
          "base_uri": "https://localhost:8080/"
        },
        "id": "LILrfQJwT92F",
        "outputId": "8da512d0-3fb3-4c39-c16a-7899328a0e3d"
      },
      "source": [
        "print(\"Hello World\")\r\n"
      ],
      "execution_count": null,
      "outputs": [
        {
          "output_type": "stream",
          "text": [
            "Hello World\n"
          ],
          "name": "stdout"
        }
      ]
    }
  ]
}